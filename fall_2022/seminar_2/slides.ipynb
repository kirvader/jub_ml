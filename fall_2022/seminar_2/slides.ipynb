{
 "cells": [
  {
   "cell_type": "markdown",
   "id": "1914860b",
   "metadata": {
    "slideshow": {
     "slide_type": "slide"
    }
   },
   "source": [
    "# SVM (support vector machine)"
   ]
  },
  {
   "cell_type": "markdown",
   "id": "1fdb8c3d",
   "metadata": {
    "slideshow": {
     "slide_type": "slide"
    }
   },
   "source": [
    "$h(\\textbf{x}) = \\textbf{w} \\textbf{x} - b$"
   ]
  },
  {
   "cell_type": "markdown",
   "id": "9448ebf3",
   "metadata": {
    "slideshow": {
     "slide_type": "-"
    }
   },
   "source": [
    "<img src='imgs/svm1.png'>"
   ]
  },
  {
   "cell_type": "markdown",
   "id": "14000485",
   "metadata": {
    "slideshow": {
     "slide_type": "slide"
    }
   },
   "source": [
    "<img src='imgs/svm2.png'>"
   ]
  },
  {
   "cell_type": "markdown",
   "id": "1987e305",
   "metadata": {
    "slideshow": {
     "slide_type": "slide"
    }
   },
   "source": [
    "<img src='imgs/svm5.png'>"
   ]
  },
  {
   "cell_type": "markdown",
   "id": "776c2391",
   "metadata": {
    "slideshow": {
     "slide_type": "slide"
    }
   },
   "source": [
    "<img src='imgs/svm4.png'>"
   ]
  },
  {
   "cell_type": "markdown",
   "id": "fe109b75",
   "metadata": {
    "slideshow": {
     "slide_type": "slide"
    }
   },
   "source": [
    "<img src='imgs/svm6.png'>"
   ]
  },
  {
   "cell_type": "markdown",
   "id": "430fcacc",
   "metadata": {
    "slideshow": {
     "slide_type": "slide"
    }
   },
   "source": [
    "<img src='imgs/svm7.png'>"
   ]
  },
  {
   "cell_type": "markdown",
   "id": "bd89a6dd",
   "metadata": {
    "slideshow": {
     "slide_type": "fragment"
    }
   },
   "source": [
    "<img src='imgs/svm8.png'>"
   ]
  },
  {
   "cell_type": "markdown",
   "id": "7844332a",
   "metadata": {
    "slideshow": {
     "slide_type": "slide"
    }
   },
   "source": [
    "<img src='imgs/svm9.png'>"
   ]
  },
  {
   "cell_type": "markdown",
   "id": "b9622ebc",
   "metadata": {
    "slideshow": {
     "slide_type": "slide"
    }
   },
   "source": [
    "<img src='imgs/svm12.png'>"
   ]
  },
  {
   "cell_type": "markdown",
   "id": "f6f41642",
   "metadata": {
    "slideshow": {
     "slide_type": "slide"
    }
   },
   "source": [
    "<img src='imgs/svm15.png'>"
   ]
  },
  {
   "cell_type": "markdown",
   "id": "3e5d8ddb",
   "metadata": {
    "slideshow": {
     "slide_type": "fragment"
    }
   },
   "source": [
    "<img src='imgs/svm16.png'>"
   ]
  },
  {
   "cell_type": "markdown",
   "id": "bed64083",
   "metadata": {
    "slideshow": {
     "slide_type": "slide"
    }
   },
   "source": [
    "<img src='imgs/svm11.png'>"
   ]
  },
  {
   "cell_type": "markdown",
   "id": "7b7d832f",
   "metadata": {
    "slideshow": {
     "slide_type": "slide"
    }
   },
   "source": [
    "<img src='imgs/svm13.png'>"
   ]
  },
  {
   "cell_type": "markdown",
   "id": "da3ee8e4",
   "metadata": {
    "slideshow": {
     "slide_type": "slide"
    }
   },
   "source": [
    "## Other SVMs\n",
    "\n",
    "* SGD + SVM\n",
    "* One-class SVM\n",
    "* Neural kernel SVM"
   ]
  },
  {
   "cell_type": "code",
   "execution_count": 7,
   "id": "8dce44cc",
   "metadata": {
    "slideshow": {
     "slide_type": "slide"
    }
   },
   "outputs": [],
   "source": [
    "from sklearn.svm import SVC"
   ]
  },
  {
   "cell_type": "code",
   "execution_count": 8,
   "id": "212728e2",
   "metadata": {},
   "outputs": [],
   "source": [
    "SVC?"
   ]
  },
  {
   "cell_type": "markdown",
   "id": "2f4f74a0",
   "metadata": {
    "slideshow": {
     "slide_type": "slide"
    }
   },
   "source": [
    "# Naive Bayes"
   ]
  },
  {
   "cell_type": "markdown",
   "id": "d125285b",
   "metadata": {
    "slideshow": {
     "slide_type": "slide"
    }
   },
   "source": [
    "<img src='imgs/nb7.png'>"
   ]
  },
  {
   "cell_type": "markdown",
   "id": "ec42d8bc",
   "metadata": {
    "slideshow": {
     "slide_type": "slide"
    }
   },
   "source": [
    "<img src='imgs/nb1.png'>"
   ]
  },
  {
   "cell_type": "markdown",
   "id": "daf6e35d",
   "metadata": {
    "slideshow": {
     "slide_type": "slide"
    }
   },
   "source": [
    "<img src='imgs/nb5.png'>"
   ]
  },
  {
   "cell_type": "markdown",
   "id": "bbe1d6b1",
   "metadata": {
    "slideshow": {
     "slide_type": "slide"
    }
   },
   "source": [
    "<img src='imgs/nb2.png'>"
   ]
  },
  {
   "cell_type": "markdown",
   "id": "f160c182",
   "metadata": {
    "slideshow": {
     "slide_type": "slide"
    }
   },
   "source": [
    "<img src='imgs/nb3.png'>"
   ]
  },
  {
   "cell_type": "code",
   "execution_count": null,
   "id": "f2f9f211",
   "metadata": {
    "slideshow": {
     "slide_type": "slide"
    }
   },
   "outputs": [],
   "source": [
    "from sklearn.naive_bayes import BernoulliNB, CategoricalNB, GaussianNB"
   ]
  },
  {
   "cell_type": "markdown",
   "id": "210910e2",
   "metadata": {
    "slideshow": {
     "slide_type": "slide"
    }
   },
   "source": [
    "# Hyperparameters optimization"
   ]
  },
  {
   "cell_type": "markdown",
   "id": "7249000d",
   "metadata": {
    "slideshow": {
     "slide_type": "slide"
    }
   },
   "source": [
    "**examples of hyperameters**\n",
    "* regularization constant\n",
    "* learning rate\n",
    "* number of epochs\n",
    "* number of models"
   ]
  },
  {
   "cell_type": "markdown",
   "id": "2cc08f73",
   "metadata": {
    "slideshow": {
     "slide_type": "fragment"
    }
   },
   "source": [
    "**goals**\n",
    "* improve performance\n",
    "* reduce human work"
   ]
  },
  {
   "cell_type": "markdown",
   "id": "0b8e0231",
   "metadata": {
    "slideshow": {
     "slide_type": "slide"
    }
   },
   "source": [
    "<img src='imgs/im1.png'>"
   ]
  },
  {
   "cell_type": "markdown",
   "id": "32e62fd2",
   "metadata": {
    "slideshow": {
     "slide_type": "slide"
    }
   },
   "source": [
    "## Grid search\n",
    "\n",
    "1. For each $\\Lambda_i$ choose $L_i\\subseteq \\Lambda_i$ - set of values\n",
    "2. S = $\\prod L_i$ - set of trial points\n",
    "3. Evaluate V\n"
   ]
  },
  {
   "cell_type": "markdown",
   "id": "011cc2e1",
   "metadata": {
    "slideshow": {
     "slide_type": "fragment"
    }
   },
   "source": [
    "## Random Search\n",
    "\n",
    "1. Set of trial points $S\\sim_{iid}$ **$\\Lambda$**\n",
    "2. Evaluate V"
   ]
  },
  {
   "cell_type": "markdown",
   "id": "e037f710",
   "metadata": {
    "slideshow": {
     "slide_type": "slide"
    }
   },
   "source": [
    "### Random vs Grid\n",
    "* for the fixed number of iterations K random can view K different values for each parameter, whereas grid can only explore $K^{\\frac{1}{N}}$"
   ]
  },
  {
   "cell_type": "markdown",
   "id": "f4462d11",
   "metadata": {
    "slideshow": {
     "slide_type": "fragment"
    }
   },
   "source": [
    "<img src='imgs/im3.png'>"
   ]
  },
  {
   "cell_type": "markdown",
   "id": "6ffe1c5b",
   "metadata": {
    "slideshow": {
     "slide_type": "slide"
    }
   },
   "source": [
    "grid search is usualy worse\n",
    "* often a small fraction of hyperparameters matter\n",
    "* for differrent datasets can matter different parameters"
   ]
  },
  {
   "cell_type": "markdown",
   "id": "2dbf845a",
   "metadata": {
    "slideshow": {
     "slide_type": "slide"
    }
   },
   "source": [
    "**Problems**\n",
    "\n",
    "* function evaluation can be extremely expensive\n",
    "* hyperparameter space is often high-dimensional and complex\n",
    "* hyperparameter space can have conditionality\n",
    "* no gradient"
   ]
  },
  {
   "cell_type": "code",
   "execution_count": 9,
   "id": "961e09fe",
   "metadata": {
    "slideshow": {
     "slide_type": "slide"
    }
   },
   "outputs": [],
   "source": [
    "from sklearn.model_selection import GridSearchCV, RandomizedSearchCV\n",
    "\n",
    "from sklearn.linear_model import LogisticRegression\n",
    "\n",
    "from sklearn.datasets import load_breast_cancer\n",
    "from sklearn.metrics import make_scorer, roc_auc_score\n",
    "from sklearn.preprocessing import StandardScaler\n",
    "\n",
    "import numpy as np"
   ]
  },
  {
   "cell_type": "code",
   "execution_count": 10,
   "id": "b9453fc6",
   "metadata": {
    "slideshow": {
     "slide_type": "slide"
    }
   },
   "outputs": [],
   "source": [
    "data = load_breast_cancer()\n",
    "x, y = data.data, data.target\n",
    "x = StandardScaler().fit_transform(x)"
   ]
  },
  {
   "cell_type": "code",
   "execution_count": 11,
   "id": "d1225bb2",
   "metadata": {
    "slideshow": {
     "slide_type": "slide"
    }
   },
   "outputs": [],
   "source": [
    "auc_scorer = make_scorer(roc_auc_score)"
   ]
  },
  {
   "cell_type": "code",
   "execution_count": 12,
   "id": "ecf9f851",
   "metadata": {
    "slideshow": {
     "slide_type": "slide"
    }
   },
   "outputs": [],
   "source": [
    "params = {'penalty': ['l2', 'l1'], \n",
    "          'C': np.linspace(0.1, 1, 10),\n",
    "          'solver':['saga'], \n",
    "          'max_iter':[10000]}\n",
    "model = LogisticRegression()"
   ]
  },
  {
   "cell_type": "code",
   "execution_count": 84,
   "id": "182694b1",
   "metadata": {
    "slideshow": {
     "slide_type": "fragment"
    }
   },
   "outputs": [
    {
     "data": {
      "text/plain": [
       "GridSearchCV(estimator=LogisticRegression(),\n",
       "             param_grid={'C': array([0.1, 0.2, 0.3, 0.4, 0.5, 0.6, 0.7, 0.8, 0.9, 1. ]),\n",
       "                         'max_iter': [10000], 'penalty': ['l2', 'l1'],\n",
       "                         'solver': ['saga']},\n",
       "             scoring=make_scorer(roc_auc_score))"
      ]
     },
     "execution_count": 84,
     "metadata": {},
     "output_type": "execute_result"
    }
   ],
   "source": [
    "clf = GridSearchCV(model, params, scoring=auc_scorer)\n",
    "clf.fit(x, y)"
   ]
  },
  {
   "cell_type": "code",
   "execution_count": 86,
   "id": "f50b8c4a",
   "metadata": {
    "slideshow": {
     "slide_type": "slide"
    }
   },
   "outputs": [
    {
     "data": {
      "text/plain": [
       "({'C': 0.30000000000000004,\n",
       "  'max_iter': 10000,\n",
       "  'penalty': 'l2',\n",
       "  'solver': 'saga'},\n",
       " 0.9783765253016808)"
      ]
     },
     "execution_count": 86,
     "metadata": {},
     "output_type": "execute_result"
    }
   ],
   "source": [
    "clf.best_params_, clf.best_score_"
   ]
  },
  {
   "cell_type": "code",
   "execution_count": 76,
   "id": "f3898901",
   "metadata": {
    "slideshow": {
     "slide_type": "slide"
    }
   },
   "outputs": [],
   "source": [
    "from scipy.stats import uniform"
   ]
  },
  {
   "cell_type": "code",
   "execution_count": 79,
   "id": "372148dd",
   "metadata": {
    "slideshow": {
     "slide_type": "fragment"
    }
   },
   "outputs": [],
   "source": [
    "params = {'penalty': ['l2', 'l1'], \n",
    "          'C': uniform(0, 1),\n",
    "          'solver':['saga'], \n",
    "          'max_iter':[10000]}\n",
    "model = LogisticRegression()"
   ]
  },
  {
   "cell_type": "code",
   "execution_count": 80,
   "id": "705a19b0",
   "metadata": {
    "slideshow": {
     "slide_type": "fragment"
    }
   },
   "outputs": [
    {
     "data": {
      "text/plain": [
       "RandomizedSearchCV(estimator=LogisticRegression(), n_iter=20,\n",
       "                   param_distributions={'C': <scipy.stats._distn_infrastructure.rv_frozen object at 0x7fba9cad6d90>,\n",
       "                                        'max_iter': [10000],\n",
       "                                        'penalty': ['l2', 'l1'],\n",
       "                                        'solver': ['saga']},\n",
       "                   scoring=make_scorer(roc_auc_score))"
      ]
     },
     "execution_count": 80,
     "metadata": {},
     "output_type": "execute_result"
    }
   ],
   "source": [
    "clf = RandomizedSearchCV(model, params, scoring=auc_scorer, n_iter=20)\n",
    "clf.fit(x, y)"
   ]
  },
  {
   "cell_type": "code",
   "execution_count": 82,
   "id": "11021d59",
   "metadata": {
    "slideshow": {
     "slide_type": "slide"
    }
   },
   "outputs": [
    {
     "data": {
      "text/plain": [
       "({'C': 0.31472625862091097,\n",
       "  'max_iter': 10000,\n",
       "  'penalty': 'l2',\n",
       "  'solver': 'saga'},\n",
       " 0.9783765253016808)"
      ]
     },
     "execution_count": 82,
     "metadata": {},
     "output_type": "execute_result"
    }
   ],
   "source": [
    "clf.best_params_, clf.best_score_"
   ]
  },
  {
   "cell_type": "markdown",
   "id": "a9f36b62",
   "metadata": {
    "slideshow": {
     "slide_type": "slide"
    }
   },
   "source": [
    "## Multi-fidelity optimization\n",
    "\n",
    "* low-fidelity (low cost) approximations of the V\n",
    "* trade-off between optimization performance and runtime\n",
    "\n",
    "how to approximate\n",
    "* use subset of data\n",
    "* train for few iterations\n",
    "* using subset of features"
   ]
  },
  {
   "cell_type": "markdown",
   "id": "58898843",
   "metadata": {
    "slideshow": {
     "slide_type": "slide"
    }
   },
   "source": [
    "## Predictive termination\n",
    "\n",
    "* predicting performance of the model as a function of number of iterations\n",
    "\n",
    "* train for the some iterations and predict value at the end of training"
   ]
  },
  {
   "cell_type": "markdown",
   "id": "e7eaa333",
   "metadata": {
    "slideshow": {
     "slide_type": "slide"
    }
   },
   "source": [
    "## Hyperband\n",
    "\n",
    "* initialize set of models and train them for some time t\n",
    "* remove bottom half of models\n",
    "* continue training for t\n",
    "* repeat until 1 model is left"
   ]
  },
  {
   "cell_type": "markdown",
   "id": "3295885f",
   "metadata": {
    "slideshow": {
     "slide_type": "slide"
    }
   },
   "source": [
    "<img src='imgs/im7.png'>"
   ]
  },
  {
   "cell_type": "markdown",
   "id": "618fd73f",
   "metadata": {
    "slideshow": {
     "slide_type": "slide"
    }
   },
   "source": [
    "# Bayesian optimization"
   ]
  },
  {
   "cell_type": "markdown",
   "id": "4c51df1d",
   "metadata": {
    "slideshow": {
     "slide_type": "fragment"
    }
   },
   "source": [
    "<img src='imgs/im4.png'>"
   ]
  },
  {
   "cell_type": "markdown",
   "id": "ef9984e9",
   "metadata": {
    "slideshow": {
     "slide_type": "slide"
    }
   },
   "source": [
    "<img src='imgs/im5.png' width=900 style=\"float: left\">\n"
   ]
  },
  {
   "cell_type": "markdown",
   "id": "ab750537",
   "metadata": {
    "slideshow": {
     "slide_type": "slide"
    }
   },
   "source": [
    "* https://github.com/hyperopt/hyperopt\n",
    "\n",
    "* https://github.com/facebook/Ax\n",
    "\n",
    "* https://github.com/fmfn/BayesianOptimization\n",
    "\n",
    "* https://github.com/optuna/optuna\n",
    "\n",
    "* https://github.com/zygmuntz/hyperband\n",
    "\n",
    "* https://github.com/ray-project/ray\n",
    "* more"
   ]
  }
 ],
 "metadata": {
  "celltoolbar": "Slideshow",
  "kernelspec": {
   "display_name": "Python 3 (ipykernel)",
   "language": "python",
   "name": "python3"
  },
  "language_info": {
   "codemirror_mode": {
    "name": "ipython",
    "version": 3
   },
   "file_extension": ".py",
   "mimetype": "text/x-python",
   "name": "python",
   "nbconvert_exporter": "python",
   "pygments_lexer": "ipython3",
   "version": "3.7.10"
  }
 },
 "nbformat": 4,
 "nbformat_minor": 5
}
