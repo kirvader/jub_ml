{
 "cells": [
  {
   "cell_type": "markdown",
   "id": "d5964cc9",
   "metadata": {
    "slideshow": {
     "slide_type": "slide"
    }
   },
   "source": [
    "# Neural Nets"
   ]
  },
  {
   "cell_type": "markdown",
   "id": "25be2930",
   "metadata": {
    "slideshow": {
     "slide_type": "slide"
    }
   },
   "source": [
    "# Perceptron (Frank Rosenblatt, 1957)\n",
    "<img src='imgs/nn1.png'>\n",
    "\n",
    "Escentially it is a linear combination with non-linear function:\n",
    "\n",
    "$$y=h(\\textbf{w}^t \\textbf{x}) = h(\\sum w_i x_i) = sign (\\sum w_i x_i)$$"
   ]
  },
  {
   "cell_type": "markdown",
   "id": "a32e534e",
   "metadata": {
    "slideshow": {
     "slide_type": "slide"
    }
   },
   "source": [
    "# Multi-Layer Perceptron (MLP, Minsky and Papert, 1969)\n",
    "<img src='imgs/nn2.png'>\n"
   ]
  },
  {
   "cell_type": "markdown",
   "id": "34c1e4b7",
   "metadata": {
    "slideshow": {
     "slide_type": "slide"
    }
   },
   "source": [
    "<img src='imgs/nn3.png'>\n"
   ]
  },
  {
   "cell_type": "markdown",
   "id": "90326683",
   "metadata": {
    "slideshow": {
     "slide_type": "slide"
    }
   },
   "source": [
    "<img src='imgs/nn4.png'>"
   ]
  },
  {
   "cell_type": "markdown",
   "id": "179dae8c",
   "metadata": {
    "slideshow": {
     "slide_type": "fragment"
    }
   },
   "source": [
    "**Stochastic Gradient Decent (SGD)** - calculates C(w) only on a sample of data (batch). Usualy splits data into batches and iterates over them one-by-one."
   ]
  },
  {
   "cell_type": "markdown",
   "id": "a7af07d9",
   "metadata": {
    "slideshow": {
     "slide_type": "slide"
    }
   },
   "source": [
    "### Back-propagation (Rumelhart, Hinton, Williams, 1986)\n",
    "<img src='imgs/nn5.png'>"
   ]
  },
  {
   "cell_type": "markdown",
   "id": "b8ed4bf3",
   "metadata": {
    "slideshow": {
     "slide_type": "slide"
    }
   },
   "source": [
    "<img src='imgs/nn6.png'>\n"
   ]
  },
  {
   "cell_type": "markdown",
   "id": "58a1b537",
   "metadata": {
    "slideshow": {
     "slide_type": "slide"
    }
   },
   "source": [
    "* $w_{jk}^l$ - weight between $k^{th}$ neuron in the $(l-1)^{th}$ layer to the $j^{th}$ neuron in the $l^{th}$ layer\n",
    "* $s_j^l$ - incoming 'signal' to the  $j^{th}$ neuron in the $l^{th}$ layer\n",
    "\n",
    "* $x_j^l$ - outcoming 'signal' from the $j^{th}$ neuron in the $l^{th}$ layer"
   ]
  },
  {
   "cell_type": "markdown",
   "id": "087d2943",
   "metadata": {
    "slideshow": {
     "slide_type": "fragment"
    }
   },
   "source": [
    "* $s_j^l = \\sum w_{jk}^l x_k^{l-1}$\n",
    "\n",
    "* $x_j^l = \\sigma(s_j^l) = \\sigma(\\sum w_{jk}^l x_k^{l-1})$"
   ]
  },
  {
   "cell_type": "markdown",
   "id": "aaee6f45",
   "metadata": {
    "slideshow": {
     "slide_type": "slide"
    }
   },
   "source": [
    "<img src='imgs/nn9.png' align=\"left\" width=\"1000\">\n",
    "<!-- <br clear=\"left\"/> -->"
   ]
  },
  {
   "cell_type": "markdown",
   "id": "dae666f3",
   "metadata": {
    "slideshow": {
     "slide_type": "slide"
    }
   },
   "source": [
    "* $\\frac{\\partial{C(w)}}{\\partial w_{jk}^l} = \\frac{\\partial{C(w)}}{\\partial s_{j}^l}\\frac{\\partial{s_j^l}}{\\partial w_{jk}^l}$\n",
    "\n",
    "* $\\frac{\\partial{s_j^l}}{\\partial w_{jk}^l} = x_i^{l-1}$\n",
    "\n",
    "* $\\frac{\\partial{C(w)}}{\\partial s_{j}^l} = \\delta_j^l$\n",
    "\n",
    "* Last layer: $\\delta_1^L = \\frac{\\partial{C(w)}}{\\partial s_{1}^L} =\\frac{\\partial{f(x_1^L)}}{\\partial s_{1}^L}=\\frac{\\partial{f(\\sigma(s_1^L))}}{\\partial s_{1}^L}$\n",
    "\n",
    "* $\\delta^{l-1}_i = \\sum\\limits_j \\frac{\\partial C(w)}{\\partial s_j^l} \\frac{\\partial s_j^l}{\\partial x_i^{l-1}}\\frac{\\partial x_i^{l-1}}{\\partial s_{i}^{l-1}} = \\sum\\limits_j\\delta_j^l \\cdot w_{ij}^l \\cdot \\sigma'(s_i^{l-1})$"
   ]
  }
 ],
 "metadata": {
  "celltoolbar": "Slideshow",
  "kernelspec": {
   "display_name": "Python 3 (ipykernel)",
   "language": "python",
   "name": "python3"
  },
  "language_info": {
   "codemirror_mode": {
    "name": "ipython",
    "version": 3
   },
   "file_extension": ".py",
   "mimetype": "text/x-python",
   "name": "python",
   "nbconvert_exporter": "python",
   "pygments_lexer": "ipython3",
   "version": "3.7.10"
  }
 },
 "nbformat": 4,
 "nbformat_minor": 5
}
